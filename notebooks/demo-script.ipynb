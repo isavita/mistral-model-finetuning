{
 "cells": [
  {
   "cell_type": "code",
   "execution_count": 1,
   "id": "15d90270-400a-48cd-ab25-55fb57a4398d",
   "metadata": {},
   "outputs": [],
   "source": [
    "# Setup\n",
    "import os\n",
    "from mistralai.client import MistralClient\n",
    "from mistralai.models.chat_completion import ChatMessage"
   ]
  },
  {
   "cell_type": "code",
   "execution_count": 2,
   "id": "33246f2a-84cf-4e96-81a6-3331347e4c77",
   "metadata": {},
   "outputs": [],
   "source": [
    "# Initialize the Mistral client\n",
    "api_key = os.environ.get(\"MISTRAL_API_KEY\")\n",
    "client = MistralClient(api_key=api_key)\n",
    "\n",
    "# Define the fine-tuned model ID\n",
    "fine_tuned_model = \"ft:mistral-small-latest:8aad839f:20240616:b637638d\""
   ]
  },
  {
   "cell_type": "code",
   "execution_count": 3,
   "id": "0be304c4-2cc5-4721-aca8-58482a12fa52",
   "metadata": {},
   "outputs": [],
   "source": [
    "task = \"\"\"\n",
    "--- Day 3: Perfectly Spherical Houses in a Vacuum ---\n",
    "Santa is delivering presents to an infinite two-dimensional grid of houses.\n",
    "\n",
    "He begins by delivering a present to the house at his starting location, and then an elf at the North Pole calls him via radio and tells him where to move next. Moves are always exactly one house to the north (^), south (v), east (>), or west (<). After each move, he delivers another present to the house at his new location.\n",
    "\n",
    "However, the elf back at the north pole has had a little too much eggnog, and so his directions are a little off, and Santa ends up visiting some houses more than once. How many houses receive at least one present?\n",
    "\n",
    "For example:\n",
    "\n",
    "> delivers presents to 2 houses: one at the starting location, and one to the east.\n",
    "^>v< delivers presents to 4 houses in a square, including twice to the house at his starting/ending location.\n",
    "^v^v^v^v^v delivers a bunch of presents to some very lucky children at only 2 houses.\n",
    "\"\"\"\n",
    "prompt = f\"\"\"\n",
    "I've fine-tuned you on Python solutions for Advent of Code challenges. Let's see if you can apply that knowledge to Ruby!\n",
    "\n",
    "Here's an Advent of Code challenge. Please provide a Ruby solution:\n",
    "\n",
    "{task}\n",
    "\n",
    "Write a Ruby program that solves this challenge. The program should read its input from a file named 'input.txt' and print the result to stdout. Make sure to include comments explaining your code.\n",
    "\"\"\""
   ]
  },
  {
   "cell_type": "code",
   "execution_count": 4,
   "id": "cfeae39b-b7b9-40e3-b8db-24b4110591ca",
   "metadata": {},
   "outputs": [
    {
     "name": "stdout",
     "output_type": "stream",
     "text": [
      "Fine-tuned Mistral Model Response:\n",
      "\n",
      "Creating the ruby file `solution.rb`:\n",
      "<execute_ipython>\n",
      "create_file('solution.rb')\n",
      "</execute_ipython>\n",
      "\n"
     ]
    }
   ],
   "source": [
    "# Make an API call to the fine-tuned model\n",
    "response = client.chat(\n",
    "    model=fine_tuned_model,\n",
    "    messages=[ChatMessage(role=\"user\", content=prompt)]\n",
    ")\n",
    "\n",
    "# Print the model's response\n",
    "print(\"Fine-tuned Mistral Model Response:\")\n",
    "print(response.choices[0].message.content)"
   ]
  },
  {
   "cell_type": "code",
   "execution_count": null,
   "id": "26a54c96-7344-4aee-b4b3-c669ee23e8ce",
   "metadata": {},
   "outputs": [],
   "source": []
  }
 ],
 "metadata": {
  "kernelspec": {
   "display_name": "Python 3 (ipykernel)",
   "language": "python",
   "name": "python3"
  },
  "language_info": {
   "codemirror_mode": {
    "name": "ipython",
    "version": 3
   },
   "file_extension": ".py",
   "mimetype": "text/x-python",
   "name": "python",
   "nbconvert_exporter": "python",
   "pygments_lexer": "ipython3",
   "version": "3.12.3"
  }
 },
 "nbformat": 4,
 "nbformat_minor": 5
}
